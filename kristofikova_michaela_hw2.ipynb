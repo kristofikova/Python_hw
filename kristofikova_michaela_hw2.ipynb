{
 "cells": [
  {
   "cell_type": "code",
   "execution_count": 1,
   "metadata": {},
   "outputs": [],
   "source": [
    "# Načtení knihovny pandas a json\n",
    "import pandas as pd\n",
    "import json"
   ]
  },
  {
   "cell_type": "code",
   "execution_count": 2,
   "metadata": {},
   "outputs": [],
   "source": [
    "# Načtení souboru netflix_titles.tsv\n",
    "titles = pd.read_csv(\"netflix_titles.tsv\",sep = '\\t')\n"
   ]
  },
  {
   "cell_type": "code",
   "execution_count": 3,
   "metadata": {},
   "outputs": [],
   "source": [
    "# Vytvoření slovníku s konkrétními sloupci\n",
    "netflix_list = []\n",
    "\n",
    "# definice pro určení dekády pro konkrétní rok\n",
    "def year_to_decade(year):\n",
    "    decade = (year // 10) * 10\n",
    "    return decade\n",
    "\n",
    "# nastavení jednotlivých řádků a jejich obsah\n",
    "for _, row in titles.iterrows():\n",
    "    inventory = {\n",
    "        \"TITLE\": row [\"PRIMARYTITLE\"],\n",
    "        \"DIRECTORS\": row [\"DIRECTOR\"].split (\",\") if pd.notna(row[\"DIRECTOR\"]) else [],\n",
    "        \"CAST\": row [\"CAST\"].split(\",\") if pd.notna(row[\"CAST\"]) else [],\n",
    "        \"GENRES\": row [\"GENRES\"].split(\",\") if pd.notna(row[\"GENRES\"]) else [],\n",
    "        \"DECADE\": year_to_decade(int(row [\"STARTYEAR\"]))\n",
    "    }\n",
    "    netflix_list.append(inventory)"
   ]
  },
  {
   "cell_type": "code",
   "execution_count": 4,
   "metadata": {},
   "outputs": [],
   "source": [
    "# vytvoření a uložení do json souboru\n",
    "with open(\"hw2_output.json\", mode = \"w\", encoding = \"utf-8\") as json_file:\n",
    "    json.dump(netflix_list, json_file, ensure_ascii = False, indent = 4, sort_keys = True)"
   ]
  }
 ],
 "metadata": {
  "kernelspec": {
   "display_name": "Python 3",
   "language": "python",
   "name": "python3"
  },
  "language_info": {
   "codemirror_mode": {
    "name": "ipython",
    "version": 3
   },
   "file_extension": ".py",
   "mimetype": "text/x-python",
   "name": "python",
   "nbconvert_exporter": "python",
   "pygments_lexer": "ipython3",
   "version": "3.12.5"
  }
 },
 "nbformat": 4,
 "nbformat_minor": 2
}
